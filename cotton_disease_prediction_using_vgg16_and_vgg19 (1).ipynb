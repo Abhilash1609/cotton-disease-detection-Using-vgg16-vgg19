{
  "cells": [
    {
      "cell_type": "markdown",
      "metadata": {
        "papermill": {
          "duration": 0.033901,
          "end_time": "2021-01-06T14:56:36.719500",
          "exception": false,
          "start_time": "2021-01-06T14:56:36.685599",
          "status": "completed"
        },
        "tags": [],
        "id": "W1rxNI0yPP7G"
      },
      "source": [
        "The sole purpose of this application is to predict wheather the image belongs to diseased class or not. In this dataset we have 4 classes diseased leaf , diseased plant , freash leaf and freash plant.In this notebook I will use transfer learning techniques like VGG16 and VGG19 and we'll check how our accuracy got affected with respect to these transfer learning models."
      ]
    },
    {
      "cell_type": "markdown",
      "metadata": {
        "papermill": {
          "duration": 0.032811,
          "end_time": "2021-01-06T14:56:36.786070",
          "exception": false,
          "start_time": "2021-01-06T14:56:36.753259",
          "status": "completed"
        },
        "tags": [],
        "id": "j_-Fq-nxPP7L"
      },
      "source": [
        "## Table of Content\n",
        "\n",
        "### Training VGG 16 Model\n",
        "1. Libraries\n",
        "2. Training & DataLoader\n",
        "3. Building the VGG16\n",
        "4. Summary\n",
        "5. Training The VGG16\n",
        "6. Testing\n",
        "7. Conclusion\n",
        "\n",
        "### Training VGG19 Model\n",
        "1. Libraries\n",
        "2. Training & DataLoader\n",
        "3. Building the VGG19\n",
        "4. Summary\n",
        "5. Training The VGG19\n",
        "6. Testing\n",
        "7. Conclusion\n",
        "\n",
        "#### Final conclusion"
      ]
    },
    {
      "cell_type": "markdown",
      "metadata": {
        "papermill": {
          "duration": 0.03225,
          "end_time": "2021-01-06T14:56:36.851282",
          "exception": false,
          "start_time": "2021-01-06T14:56:36.819032",
          "status": "completed"
        },
        "tags": [],
        "id": "3bD4LEQQPP7M"
      },
      "source": [
        "### Libraries"
      ]
    },
    {
      "cell_type": "code",
      "execution_count": null,
      "metadata": {
        "_cell_guid": "b1076dfc-b9ad-4769-8c92-a6c4dae69d19",
        "_uuid": "8f2839f25d086af736a60e9eeb907d3b93b6e0e5",
        "execution": {
          "iopub.execute_input": "2021-01-06T14:56:36.924658Z",
          "iopub.status.busy": "2021-01-06T14:56:36.923922Z",
          "iopub.status.idle": "2021-01-06T14:56:42.793278Z",
          "shell.execute_reply": "2021-01-06T14:56:42.791734Z"
        },
        "papermill": {
          "duration": 5.909112,
          "end_time": "2021-01-06T14:56:42.793410",
          "exception": false,
          "start_time": "2021-01-06T14:56:36.884298",
          "status": "completed"
        },
        "tags": [],
        "id": "bT6pq9WpPP7O"
      },
      "outputs": [],
      "source": [
        "from tensorflow.keras.layers import Input, Lambda, Dense, Flatten\n",
        "from tensorflow.keras.models import Model\n",
        "from tensorflow.keras.applications.vgg16 import VGG16\n",
        "from tensorflow.keras.applications.vgg16 import preprocess_input\n",
        "from tensorflow.keras.preprocessing import image\n",
        "from tensorflow.keras.preprocessing.image import ImageDataGenerator,load_img\n",
        "from tensorflow.keras.models import Sequential\n",
        "import numpy as np\n",
        "from glob import glob\n"
      ]
    },
    {
      "cell_type": "code",
      "source": [
        "from google.colab import drive\n",
        "drive.mount('/content/drive')"
      ],
      "metadata": {
        "colab": {
          "base_uri": "https://localhost:8080/"
        },
        "id": "bNMWMJQhPaou",
        "outputId": "bc348133-e95f-4ba1-f76f-c13118b8150a"
      },
      "execution_count": 1,
      "outputs": [
        {
          "output_type": "stream",
          "name": "stdout",
          "text": [
            "Mounted at /content/drive\n"
          ]
        }
      ]
    },
    {
      "cell_type": "markdown",
      "metadata": {
        "papermill": {
          "duration": 0.033443,
          "end_time": "2021-01-06T14:56:42.859814",
          "exception": false,
          "start_time": "2021-01-06T14:56:42.826371",
          "status": "completed"
        },
        "tags": [],
        "id": "zdW3RCHHPP7Q"
      },
      "source": [
        "### Training & DataLoader\n"
      ]
    },
    {
      "cell_type": "code",
      "execution_count": null,
      "metadata": {
        "_cell_guid": "79c7e3d0-c299-4dcb-8224-4455121ee9b0",
        "_uuid": "d629ff2d2480ee46fbb7e2d37f6b5fab8052498a",
        "execution": {
          "iopub.execute_input": "2021-01-06T14:56:42.935078Z",
          "iopub.status.busy": "2021-01-06T14:56:42.934423Z",
          "iopub.status.idle": "2021-01-06T14:56:42.937708Z",
          "shell.execute_reply": "2021-01-06T14:56:42.937042Z"
        },
        "papermill": {
          "duration": 0.044339,
          "end_time": "2021-01-06T14:56:42.937819",
          "exception": false,
          "start_time": "2021-01-06T14:56:42.893480",
          "status": "completed"
        },
        "tags": [],
        "id": "B5k6QoTHPP7R"
      },
      "outputs": [],
      "source": [
        "# re-size all the images to this\n",
        "IMAGE_SIZE = [224, 224]\n",
        "\n",
        "train_path = '/content/drive/MyDrive/cotton/Cotton Disease/train'\n",
        "valid_path = '/content/drive/MyDrive/cotton/Cotton Disease/test'"
      ]
    },
    {
      "cell_type": "markdown",
      "metadata": {
        "papermill": {
          "duration": 0.033158,
          "end_time": "2021-01-06T14:56:43.004724",
          "exception": false,
          "start_time": "2021-01-06T14:56:42.971566",
          "status": "completed"
        },
        "tags": [],
        "id": "OCkXoeuHPP7S"
      },
      "source": [
        "### Building the VGG16\n"
      ]
    },
    {
      "cell_type": "code",
      "execution_count": null,
      "metadata": {
        "execution": {
          "iopub.execute_input": "2021-01-06T14:56:43.078497Z",
          "iopub.status.busy": "2021-01-06T14:56:43.077743Z",
          "iopub.status.idle": "2021-01-06T14:56:45.279897Z",
          "shell.execute_reply": "2021-01-06T14:56:45.280429Z"
        },
        "papermill": {
          "duration": 2.243101,
          "end_time": "2021-01-06T14:56:45.280598",
          "exception": false,
          "start_time": "2021-01-06T14:56:43.037497",
          "status": "completed"
        },
        "tags": [],
        "id": "sAK5VnNFPP7S"
      },
      "outputs": [],
      "source": [
        "# Import the Vgg 16 library as shown below and add preprocessing layer to the front of VGG\n",
        "# Here we will be using imagenet weights\n",
        "\n",
        "vgg16 = VGG16(input_shape=IMAGE_SIZE + [3], weights='imagenet', include_top=False)\n",
        "\n"
      ]
    },
    {
      "cell_type": "code",
      "execution_count": null,
      "metadata": {
        "execution": {
          "iopub.execute_input": "2021-01-06T14:56:45.358326Z",
          "iopub.status.busy": "2021-01-06T14:56:45.357717Z",
          "iopub.status.idle": "2021-01-06T14:56:45.363784Z",
          "shell.execute_reply": "2021-01-06T14:56:45.364258Z"
        },
        "papermill": {
          "duration": 0.046027,
          "end_time": "2021-01-06T14:56:45.364392",
          "exception": false,
          "start_time": "2021-01-06T14:56:45.318365",
          "status": "completed"
        },
        "tags": [],
        "id": "Arv39mPwPP7U"
      },
      "outputs": [],
      "source": [
        "# don't train existing weights\n",
        "for layer in vgg16.layers:\n",
        "    layer.trainable = False"
      ]
    },
    {
      "cell_type": "code",
      "execution_count": null,
      "metadata": {
        "execution": {
          "iopub.execute_input": "2021-01-06T14:56:45.441802Z",
          "iopub.status.busy": "2021-01-06T14:56:45.441075Z",
          "iopub.status.idle": "2021-01-06T14:56:45.447687Z",
          "shell.execute_reply": "2021-01-06T14:56:45.447053Z"
        },
        "papermill": {
          "duration": 0.046183,
          "end_time": "2021-01-06T14:56:45.447808",
          "exception": false,
          "start_time": "2021-01-06T14:56:45.401625",
          "status": "completed"
        },
        "tags": [],
        "id": "ZwugLtQUPP7V"
      },
      "outputs": [],
      "source": [
        "# useful for getting number of output classes\n",
        "folders = glob('/content/drive/MyDrive/cotton/Cotton Disease/train/*')"
      ]
    },
    {
      "cell_type": "code",
      "execution_count": null,
      "metadata": {
        "execution": {
          "iopub.execute_input": "2021-01-06T14:56:45.525409Z",
          "iopub.status.busy": "2021-01-06T14:56:45.524459Z",
          "iopub.status.idle": "2021-01-06T14:56:45.532366Z",
          "shell.execute_reply": "2021-01-06T14:56:45.532810Z"
        },
        "papermill": {
          "duration": 0.048255,
          "end_time": "2021-01-06T14:56:45.532957",
          "exception": false,
          "start_time": "2021-01-06T14:56:45.484702",
          "status": "completed"
        },
        "tags": [],
        "id": "1krErwC1PP7W"
      },
      "outputs": [],
      "source": [
        "# our layers - you can add more if you want\n",
        "x = Flatten()(vgg16.output)"
      ]
    },
    {
      "cell_type": "code",
      "execution_count": null,
      "metadata": {
        "execution": {
          "iopub.execute_input": "2021-01-06T14:56:45.610924Z",
          "iopub.status.busy": "2021-01-06T14:56:45.609942Z",
          "iopub.status.idle": "2021-01-06T14:56:45.628512Z",
          "shell.execute_reply": "2021-01-06T14:56:45.628988Z"
        },
        "papermill": {
          "duration": 0.059337,
          "end_time": "2021-01-06T14:56:45.629163",
          "exception": false,
          "start_time": "2021-01-06T14:56:45.569826",
          "status": "completed"
        },
        "tags": [],
        "id": "Anmb-w3GPP7X"
      },
      "outputs": [],
      "source": [
        "prediction = Dense(len(folders), activation='softmax')(x)\n",
        "\n",
        "# create a model object\n",
        "model = Model(inputs=vgg16.input, outputs=prediction)"
      ]
    },
    {
      "cell_type": "markdown",
      "metadata": {
        "papermill": {
          "duration": 0.036823,
          "end_time": "2021-01-06T14:56:45.703240",
          "exception": false,
          "start_time": "2021-01-06T14:56:45.666417",
          "status": "completed"
        },
        "tags": [],
        "id": "yy5XxBy4PP7X"
      },
      "source": [
        "\n",
        "### Summary\n"
      ]
    },
    {
      "cell_type": "code",
      "execution_count": null,
      "metadata": {
        "execution": {
          "iopub.execute_input": "2021-01-06T14:56:45.780793Z",
          "iopub.status.busy": "2021-01-06T14:56:45.779763Z",
          "iopub.status.idle": "2021-01-06T14:56:45.793228Z",
          "shell.execute_reply": "2021-01-06T14:56:45.793945Z"
        },
        "papermill": {
          "duration": 0.053947,
          "end_time": "2021-01-06T14:56:45.794159",
          "exception": false,
          "start_time": "2021-01-06T14:56:45.740212",
          "status": "completed"
        },
        "tags": [],
        "colab": {
          "base_uri": "https://localhost:8080/"
        },
        "id": "S_bbMghgPP7Y",
        "outputId": "ae4754f1-85f4-44fe-ed91-2e06381c21a9"
      },
      "outputs": [
        {
          "output_type": "stream",
          "name": "stdout",
          "text": [
            "Model: \"model_1\"\n",
            "_________________________________________________________________\n",
            " Layer (type)                Output Shape              Param #   \n",
            "=================================================================\n",
            " input_2 (InputLayer)        [(None, 224, 224, 3)]     0         \n",
            "                                                                 \n",
            " block1_conv1 (Conv2D)       (None, 224, 224, 64)      1792      \n",
            "                                                                 \n",
            " block1_conv2 (Conv2D)       (None, 224, 224, 64)      36928     \n",
            "                                                                 \n",
            " block1_pool (MaxPooling2D)  (None, 112, 112, 64)      0         \n",
            "                                                                 \n",
            " block2_conv1 (Conv2D)       (None, 112, 112, 128)     73856     \n",
            "                                                                 \n",
            " block2_conv2 (Conv2D)       (None, 112, 112, 128)     147584    \n",
            "                                                                 \n",
            " block2_pool (MaxPooling2D)  (None, 56, 56, 128)       0         \n",
            "                                                                 \n",
            " block3_conv1 (Conv2D)       (None, 56, 56, 256)       295168    \n",
            "                                                                 \n",
            " block3_conv2 (Conv2D)       (None, 56, 56, 256)       590080    \n",
            "                                                                 \n",
            " block3_conv3 (Conv2D)       (None, 56, 56, 256)       590080    \n",
            "                                                                 \n",
            " block3_pool (MaxPooling2D)  (None, 28, 28, 256)       0         \n",
            "                                                                 \n",
            " block4_conv1 (Conv2D)       (None, 28, 28, 512)       1180160   \n",
            "                                                                 \n",
            " block4_conv2 (Conv2D)       (None, 28, 28, 512)       2359808   \n",
            "                                                                 \n",
            " block4_conv3 (Conv2D)       (None, 28, 28, 512)       2359808   \n",
            "                                                                 \n",
            " block4_pool (MaxPooling2D)  (None, 14, 14, 512)       0         \n",
            "                                                                 \n",
            " block5_conv1 (Conv2D)       (None, 14, 14, 512)       2359808   \n",
            "                                                                 \n",
            " block5_conv2 (Conv2D)       (None, 14, 14, 512)       2359808   \n",
            "                                                                 \n",
            " block5_conv3 (Conv2D)       (None, 14, 14, 512)       2359808   \n",
            "                                                                 \n",
            " block5_pool (MaxPooling2D)  (None, 7, 7, 512)         0         \n",
            "                                                                 \n",
            " flatten_1 (Flatten)         (None, 25088)             0         \n",
            "                                                                 \n",
            " dense_1 (Dense)             (None, 4)                 100356    \n",
            "                                                                 \n",
            "=================================================================\n",
            "Total params: 14815044 (56.51 MB)\n",
            "Trainable params: 100356 (392.02 KB)\n",
            "Non-trainable params: 14714688 (56.13 MB)\n",
            "_________________________________________________________________\n"
          ]
        }
      ],
      "source": [
        "# view the structure of the model\n",
        "model.summary()"
      ]
    },
    {
      "cell_type": "code",
      "execution_count": null,
      "metadata": {
        "execution": {
          "iopub.execute_input": "2021-01-06T14:56:45.882783Z",
          "iopub.status.busy": "2021-01-06T14:56:45.881726Z",
          "iopub.status.idle": "2021-01-06T14:56:45.887256Z",
          "shell.execute_reply": "2021-01-06T14:56:45.887716Z"
        },
        "papermill": {
          "duration": 0.055601,
          "end_time": "2021-01-06T14:56:45.887857",
          "exception": false,
          "start_time": "2021-01-06T14:56:45.832256",
          "status": "completed"
        },
        "tags": [],
        "id": "1dNP6NEMPP7Y"
      },
      "outputs": [],
      "source": [
        "# tell the model what cost and optimization method to use\n",
        "model.compile(\n",
        "  loss='categorical_crossentropy',\n",
        "  optimizer='adam',\n",
        "  metrics=['accuracy']\n",
        ")"
      ]
    },
    {
      "cell_type": "markdown",
      "metadata": {
        "papermill": {
          "duration": 0.037138,
          "end_time": "2021-01-06T14:56:45.963566",
          "exception": false,
          "start_time": "2021-01-06T14:56:45.926428",
          "status": "completed"
        },
        "tags": [],
        "id": "0ggC6bt4PP7Z"
      },
      "source": [
        "### Training The VGG16\n"
      ]
    },
    {
      "cell_type": "code",
      "execution_count": null,
      "metadata": {
        "execution": {
          "iopub.execute_input": "2021-01-06T14:56:46.046056Z",
          "iopub.status.busy": "2021-01-06T14:56:46.044947Z",
          "iopub.status.idle": "2021-01-06T14:56:46.048244Z",
          "shell.execute_reply": "2021-01-06T14:56:46.047487Z"
        },
        "papermill": {
          "duration": 0.04722,
          "end_time": "2021-01-06T14:56:46.048357",
          "exception": false,
          "start_time": "2021-01-06T14:56:46.001137",
          "status": "completed"
        },
        "tags": [],
        "id": "P0ybUQnGPP7a"
      },
      "outputs": [],
      "source": [
        "# Use the Image Data Generator to import the images from the dataset\n",
        "from tensorflow.keras.preprocessing.image import ImageDataGenerator\n",
        "\n",
        "train_datagen = ImageDataGenerator(rescale = 1./255,\n",
        "                                   shear_range = 0.2,\n",
        "                                   zoom_range = 0.2,\n",
        "                                   horizontal_flip = True)\n",
        "\n",
        "test_datagen = ImageDataGenerator(rescale = 1./255)"
      ]
    },
    {
      "cell_type": "code",
      "execution_count": null,
      "metadata": {
        "execution": {
          "iopub.execute_input": "2021-01-06T14:56:46.130832Z",
          "iopub.status.busy": "2021-01-06T14:56:46.129825Z",
          "iopub.status.idle": "2021-01-06T14:56:46.441358Z",
          "shell.execute_reply": "2021-01-06T14:56:46.440745Z"
        },
        "papermill": {
          "duration": 0.35456,
          "end_time": "2021-01-06T14:56:46.441476",
          "exception": false,
          "start_time": "2021-01-06T14:56:46.086916",
          "status": "completed"
        },
        "tags": [],
        "colab": {
          "base_uri": "https://localhost:8080/"
        },
        "id": "R56rMga1PP7a",
        "outputId": "d2b7818b-a445-4069-e874-4f7ca4dee65a"
      },
      "outputs": [
        {
          "output_type": "stream",
          "name": "stdout",
          "text": [
            "Found 1951 images belonging to 4 classes.\n"
          ]
        }
      ],
      "source": [
        "# Make sure you provide the same target size as initialied for the image size\n",
        "training_set = train_datagen.flow_from_directory('/content/drive/MyDrive/cotton/Cotton Disease/train',\n",
        "                                                 target_size = (224, 224),\n",
        "                                                 batch_size = 32,\n",
        "                                                 class_mode = 'categorical')"
      ]
    },
    {
      "cell_type": "code",
      "execution_count": null,
      "metadata": {
        "execution": {
          "iopub.execute_input": "2021-01-06T14:56:46.525546Z",
          "iopub.status.busy": "2021-01-06T14:56:46.524526Z",
          "iopub.status.idle": "2021-01-06T14:56:46.631286Z",
          "shell.execute_reply": "2021-01-06T14:56:46.630554Z"
        },
        "papermill": {
          "duration": 0.151079,
          "end_time": "2021-01-06T14:56:46.631417",
          "exception": false,
          "start_time": "2021-01-06T14:56:46.480338",
          "status": "completed"
        },
        "tags": [],
        "colab": {
          "base_uri": "https://localhost:8080/"
        },
        "id": "RqYnEtG7PP7b",
        "outputId": "1e24e15c-0446-4dbb-bb62-a825d787f2d5"
      },
      "outputs": [
        {
          "output_type": "stream",
          "name": "stdout",
          "text": [
            "Found 106 images belonging to 4 classes.\n"
          ]
        }
      ],
      "source": [
        "test_set = test_datagen.flow_from_directory('/content/drive/MyDrive/cotton/Cotton Disease/test',\n",
        "                                            target_size = (224, 224),\n",
        "                                            batch_size = 32,\n",
        "                                            class_mode = 'categorical')"
      ]
    },
    {
      "cell_type": "code",
      "execution_count": null,
      "metadata": {
        "execution": {
          "iopub.execute_input": "2021-01-06T14:56:46.716675Z",
          "iopub.status.busy": "2021-01-06T14:56:46.715983Z",
          "iopub.status.idle": "2021-01-06T15:23:30.755086Z",
          "shell.execute_reply": "2021-01-06T15:23:30.754301Z"
        },
        "papermill": {
          "duration": 1604.084727,
          "end_time": "2021-01-06T15:23:30.755435",
          "exception": false,
          "start_time": "2021-01-06T14:56:46.670708",
          "status": "completed"
        },
        "tags": [],
        "colab": {
          "base_uri": "https://localhost:8080/"
        },
        "id": "1wnYVJgDPP7c",
        "outputId": "d770e2a7-4820-4d5a-9aac-f96fc1780dff"
      },
      "outputs": [
        {
          "metadata": {
            "tags": null
          },
          "name": "stderr",
          "output_type": "stream",
          "text": [
            "<ipython-input-27-7a9d0aa2e6d3>:3: UserWarning: `Model.fit_generator` is deprecated and will be removed in a future version. Please use `Model.fit`, which supports generators.\n",
            "  r = model.fit_generator(\n"
          ]
        },
        {
          "output_type": "stream",
          "name": "stdout",
          "text": [
            "Epoch 1/4\n",
            "61/61 [==============================] - 1395s 23s/step - loss: 0.7053 - accuracy: 0.7535 - val_loss: 0.2870 - val_accuracy: 0.8962\n",
            "Epoch 2/4\n",
            "61/61 [==============================] - 1347s 22s/step - loss: 0.2407 - accuracy: 0.9077 - val_loss: 0.2377 - val_accuracy: 0.9340\n",
            "Epoch 3/4\n",
            "61/61 [==============================] - 1326s 22s/step - loss: 0.1716 - accuracy: 0.9380 - val_loss: 0.2344 - val_accuracy: 0.9245\n",
            "Epoch 4/4\n",
            "61/61 [==============================] - 1322s 22s/step - loss: 0.1483 - accuracy: 0.9493 - val_loss: 0.1843 - val_accuracy: 0.9434\n"
          ]
        }
      ],
      "source": [
        "# fit the model\n",
        "# Run the cell. It will take some time to execute\n",
        "r = model.fit_generator(\n",
        "  training_set,\n",
        "  validation_data=test_set,\n",
        "  epochs=4,\n",
        "  steps_per_epoch=len(training_set),\n",
        "  validation_steps=len(test_set)\n",
        ")"
      ]
    },
    {
      "cell_type": "markdown",
      "metadata": {
        "papermill": {
          "duration": 0.121673,
          "end_time": "2021-01-06T15:23:31.009879",
          "exception": false,
          "start_time": "2021-01-06T15:23:30.888206",
          "status": "completed"
        },
        "tags": [],
        "id": "AvmDVRYPPP7c"
      },
      "source": [
        "### Testing\n"
      ]
    },
    {
      "cell_type": "code",
      "execution_count": null,
      "metadata": {
        "execution": {
          "iopub.execute_input": "2021-01-06T15:23:31.260486Z",
          "iopub.status.busy": "2021-01-06T15:23:31.259669Z",
          "iopub.status.idle": "2021-01-06T15:23:31.629884Z",
          "shell.execute_reply": "2021-01-06T15:23:31.629158Z"
        },
        "papermill": {
          "duration": 0.498768,
          "end_time": "2021-01-06T15:23:31.629999",
          "exception": false,
          "start_time": "2021-01-06T15:23:31.131231",
          "status": "completed"
        },
        "tags": [],
        "id": "fQBix_aePP7d",
        "colab": {
          "base_uri": "https://localhost:8080/"
        },
        "outputId": "e606e484-ce31-4c48-c38f-b9435baefb55"
      },
      "outputs": [
        {
          "output_type": "stream",
          "name": "stdout",
          "text": [
            "1/1 [==============================] - 5s 5s/step\n"
          ]
        }
      ],
      "source": [
        "import numpy as np\n",
        "from tensorflow.keras.preprocessing import image\n",
        "test_image = image.load_img('/content/drive/MyDrive/cotton/Cotton Disease/test/fresh cotton leaf/d (7)_iaip.jpg', target_size = (224,224))\n",
        "test_image = image.img_to_array(test_image)\n",
        "test_image=test_image/255\n",
        "test_image = np.expand_dims(test_image, axis = 0)\n",
        "result = model.predict(test_image)"
      ]
    },
    {
      "cell_type": "markdown",
      "metadata": {
        "papermill": {
          "duration": 0.120098,
          "end_time": "2021-01-06T15:23:31.875556",
          "exception": false,
          "start_time": "2021-01-06T15:23:31.755458",
          "status": "completed"
        },
        "tags": [],
        "id": "ktBOW2_ePP7d"
      },
      "source": [
        "### Conclusion"
      ]
    },
    {
      "cell_type": "code",
      "execution_count": null,
      "metadata": {
        "execution": {
          "iopub.execute_input": "2021-01-06T15:23:32.137356Z",
          "iopub.status.busy": "2021-01-06T15:23:32.136575Z",
          "iopub.status.idle": "2021-01-06T15:23:32.517478Z",
          "shell.execute_reply": "2021-01-06T15:23:32.518018Z"
        },
        "papermill": {
          "duration": 0.518722,
          "end_time": "2021-01-06T15:23:32.518176",
          "exception": false,
          "start_time": "2021-01-06T15:23:31.999454",
          "status": "completed"
        },
        "tags": [],
        "id": "jjgC7fuqPP7e",
        "outputId": "28f78570-4618-4f82-8160-a6b493801514",
        "colab": {
          "base_uri": "https://localhost:8080/",
          "height": 860
        }
      },
      "outputs": [
        {
          "output_type": "display_data",
          "data": {
            "text/plain": [
              "<Figure size 640x480 with 1 Axes>"
            ],
            "image/png": "[encoded data removed]"
          },
          "metadata": {}
        },
        {
          "output_type": "display_data",
          "data": {
            "text/plain": [
              "<Figure size 640x480 with 1 Axes>"
            ],
            "image/png": "[encoded data removed]"
          },
          "metadata": {}
        },
        {
          "output_type": "display_data",
          "data": {
            "text/plain": [
              "<Figure size 640x480 with 0 Axes>"
            ]
          },
          "metadata": {}
        }
      ],
      "source": [
        "# plot the loss\n",
        "import matplotlib.pyplot as plt\n",
        "plt.plot(r.history['loss'], label='train loss')\n",
        "plt.plot(r.history['val_loss'], label='val loss')\n",
        "plt.legend()\n",
        "plt.show()\n",
        "plt.savefig('LossVal_loss')\n",
        "\n",
        "# plot the accuracy\n",
        "plt.plot(r.history['accuracy'], label='train acc')\n",
        "plt.plot(r.history['val_accuracy'], label='val acc')\n",
        "plt.legend()\n",
        "plt.show()\n",
        "plt.savefig('AccVal_acc')"
      ]
    },
    {
      "cell_type": "code",
      "execution_count": null,
      "metadata": {
        "execution": {
          "iopub.execute_input": "2021-01-06T15:23:32.776550Z",
          "iopub.status.busy": "2021-01-06T15:23:32.775476Z",
          "iopub.status.idle": "2021-01-06T15:23:32.781867Z",
          "shell.execute_reply": "2021-01-06T15:23:32.782448Z"
        },
        "papermill": {
          "duration": 0.134681,
          "end_time": "2021-01-06T15:23:32.782593",
          "exception": false,
          "start_time": "2021-01-06T15:23:32.647912",
          "status": "completed"
        },
        "tags": [],
        "id": "0hnbWTHPPP7e",
        "outputId": "3b7fa465-50da-4f49-a5eb-f226e300c447",
        "colab": {
          "base_uri": "https://localhost:8080/"
        }
      },
      "outputs": [
        {
          "output_type": "execute_result",
          "data": {
            "text/plain": [
              "array([[4.3501254e-06, 4.2141832e-10, 9.9999571e-01, 4.1557406e-09]],\n",
              "      dtype=float32)"
            ]
          },
          "metadata": {},
          "execution_count": 31
        }
      ],
      "source": [
        "result"
      ]
    },
    {
      "cell_type": "code",
      "execution_count": null,
      "metadata": {
        "execution": {
          "iopub.execute_input": "2021-01-06T15:23:33.035499Z",
          "iopub.status.busy": "2021-01-06T15:23:33.034521Z",
          "iopub.status.idle": "2021-01-06T15:23:33.244664Z",
          "shell.execute_reply": "2021-01-06T15:23:33.244063Z"
        },
        "papermill": {
          "duration": 0.337596,
          "end_time": "2021-01-06T15:23:33.244796",
          "exception": false,
          "start_time": "2021-01-06T15:23:32.907200",
          "status": "completed"
        },
        "tags": [],
        "id": "OxguERwoPP7f",
        "colab": {
          "base_uri": "https://localhost:8080/"
        },
        "outputId": "3f5bf065-4036-4d27-8332-8d246f9f8dc3"
      },
      "outputs": [
        {
          "output_type": "stream",
          "name": "stdout",
          "text": [
            "1/1 [==============================] - 1s 561ms/step\n"
          ]
        }
      ],
      "source": [
        "a= np.argmax(model.predict(test_image),axis=1)"
      ]
    },
    {
      "cell_type": "code",
      "execution_count": null,
      "metadata": {
        "execution": {
          "iopub.execute_input": "2021-01-06T15:23:33.497159Z",
          "iopub.status.busy": "2021-01-06T15:23:33.496451Z",
          "iopub.status.idle": "2021-01-06T15:23:33.499079Z",
          "shell.execute_reply": "2021-01-06T15:23:33.499550Z"
        },
        "papermill": {
          "duration": 0.13168,
          "end_time": "2021-01-06T15:23:33.499691",
          "exception": false,
          "start_time": "2021-01-06T15:23:33.368011",
          "status": "completed"
        },
        "tags": [],
        "id": "yADDZEZgPP7f",
        "outputId": "bf418672-c42f-43f2-d4f8-270849d5d2e4",
        "colab": {
          "base_uri": "https://localhost:8080/"
        }
      },
      "outputs": [
        {
          "output_type": "execute_result",
          "data": {
            "text/plain": [
              "array([2])"
            ]
          },
          "metadata": {},
          "execution_count": 33
        }
      ],
      "source": [
        "a"
      ]
    },
    {
      "cell_type": "code",
      "source": [
        "# Convert result to list and find the class with highest probability\n",
        "result = result.ravel().tolist()\n",
        "max_prob = result[0]\n",
        "index_of_max = 0\n",
        "\n",
        "# Loop through the result array to find the max probability and its index\n",
        "for index, value in enumerate(result):\n",
        "    if value > max_prob:\n",
        "        max_prob = value\n",
        "        index_of_max = index\n",
        "\n",
        "print(f\"Largest element present in given array: {max_prob} And it belongs to {classes[index_of_max]} class.\")"
      ],
      "metadata": {
        "colab": {
          "base_uri": "https://localhost:8080/"
        },
        "id": "Tqh_0EiEx3z8",
        "outputId": "8faa59fa-30ed-47eb-b8e4-fa1f666409b2"
      },
      "execution_count": null,
      "outputs": [
        {
          "output_type": "stream",
          "name": "stdout",
          "text": [
            "Largest element present in given array: 0.9999957084655762 And it belongs to fresh_leaf class.\n"
          ]
        }
      ]
    },
    {
      "cell_type": "markdown",
      "metadata": {
        "papermill": {
          "duration": 0.12371,
          "end_time": "2021-01-06T15:23:33.747994",
          "exception": false,
          "start_time": "2021-01-06T15:23:33.624284",
          "status": "completed"
        },
        "tags": [],
        "id": "Lp2lUxbZPP7g"
      },
      "source": [
        "**Libraries** for **VGG19**"
      ]
    },
    {
      "cell_type": "code",
      "execution_count": null,
      "metadata": {
        "execution": {
          "iopub.execute_input": "2021-01-06T15:23:34.000286Z",
          "iopub.status.busy": "2021-01-06T15:23:33.999563Z",
          "iopub.status.idle": "2021-01-06T15:23:34.003366Z",
          "shell.execute_reply": "2021-01-06T15:23:34.003826Z"
        },
        "papermill": {
          "duration": 0.132136,
          "end_time": "2021-01-06T15:23:34.003965",
          "exception": false,
          "start_time": "2021-01-06T15:23:33.871829",
          "status": "completed"
        },
        "tags": [],
        "id": "syTnkHP7PP7g"
      },
      "outputs": [],
      "source": [
        "from tensorflow.keras.layers import Input, Lambda, Dense, Flatten\n",
        "from tensorflow.keras.models import Model\n",
        "from tensorflow.keras.applications.vgg19 import VGG19\n",
        "from tensorflow.keras.preprocessing import image\n",
        "from tensorflow.keras.preprocessing.image import ImageDataGenerator\n",
        "import numpy as np\n",
        "from glob import glob\n",
        "import matplotlib.pyplot as plt"
      ]
    },
    {
      "cell_type": "markdown",
      "metadata": {
        "papermill": {
          "duration": 0.126056,
          "end_time": "2021-01-06T15:23:34.255291",
          "exception": false,
          "start_time": "2021-01-06T15:23:34.129235",
          "status": "completed"
        },
        "tags": [],
        "id": "0T56IBvmPP7h"
      },
      "source": [
        "### Training & DataLoader\n"
      ]
    },
    {
      "cell_type": "code",
      "execution_count": null,
      "metadata": {
        "execution": {
          "iopub.execute_input": "2021-01-06T15:23:34.563861Z",
          "iopub.status.busy": "2021-01-06T15:23:34.563208Z",
          "iopub.status.idle": "2021-01-06T15:23:34.568078Z",
          "shell.execute_reply": "2021-01-06T15:23:34.567542Z"
        },
        "papermill": {
          "duration": 0.187013,
          "end_time": "2021-01-06T15:23:34.568228",
          "exception": false,
          "start_time": "2021-01-06T15:23:34.381215",
          "status": "completed"
        },
        "tags": [],
        "id": "dP2Lj0Q6PP7h"
      },
      "outputs": [],
      "source": [
        "# re-size all the images to this\n",
        "IMAGE_SIZE = [224, 224]\n",
        "\n",
        "train_path1 = '/content/drive/MyDrive/cotton/Cotton Disease/train'\n",
        "valid_path1 = '/content/drive/MyDrive/cotton/Cotton Disease/test'"
      ]
    },
    {
      "cell_type": "markdown",
      "metadata": {
        "papermill": {
          "duration": 0.125325,
          "end_time": "2021-01-06T15:23:34.820794",
          "exception": false,
          "start_time": "2021-01-06T15:23:34.695469",
          "status": "completed"
        },
        "tags": [],
        "id": "ZC6hTXyWPP7h"
      },
      "source": [
        "### Building the VGG19"
      ]
    },
    {
      "cell_type": "code",
      "execution_count": null,
      "metadata": {
        "execution": {
          "iopub.execute_input": "2021-01-06T15:23:35.074837Z",
          "iopub.status.busy": "2021-01-06T15:23:35.073881Z",
          "iopub.status.idle": "2021-01-06T15:23:38.450409Z",
          "shell.execute_reply": "2021-01-06T15:23:38.450942Z"
        },
        "papermill": {
          "duration": 3.504415,
          "end_time": "2021-01-06T15:23:38.451082",
          "exception": false,
          "start_time": "2021-01-06T15:23:34.946667",
          "status": "completed"
        },
        "tags": [],
        "id": "42oOhRNfPP7i",
        "outputId": "9ad7b25f-4b55-435b-cc7e-ccc842dc9749",
        "colab": {
          "base_uri": "https://localhost:8080/"
        }
      },
      "outputs": [
        {
          "output_type": "stream",
          "name": "stdout",
          "text": [
            "Downloading data from https://storage.googleapis.com/tensorflow/keras-applications/vgg19/vgg19_weights_tf_dim_ordering_tf_kernels_notop.h5\n",
            "80134624/80134624 [==============================] - 1s 0us/step\n"
          ]
        }
      ],
      "source": [
        "vgg19 = VGG19(input_shape=IMAGE_SIZE + [3], weights='imagenet', include_top=False)"
      ]
    },
    {
      "cell_type": "code",
      "execution_count": null,
      "metadata": {
        "execution": {
          "iopub.execute_input": "2021-01-06T15:23:38.727314Z",
          "iopub.status.busy": "2021-01-06T15:23:38.726339Z",
          "iopub.status.idle": "2021-01-06T15:23:38.729318Z",
          "shell.execute_reply": "2021-01-06T15:23:38.728762Z"
        },
        "papermill": {
          "duration": 0.14659,
          "end_time": "2021-01-06T15:23:38.729425",
          "exception": false,
          "start_time": "2021-01-06T15:23:38.582835",
          "status": "completed"
        },
        "tags": [],
        "id": "mJc6Rp7QPP7j"
      },
      "outputs": [],
      "source": [
        "for layer in vgg19.layers:\n",
        "    layer.trainable = False"
      ]
    },
    {
      "cell_type": "code",
      "execution_count": null,
      "metadata": {
        "execution": {
          "iopub.execute_input": "2021-01-06T15:23:38.995459Z",
          "iopub.status.busy": "2021-01-06T15:23:38.994757Z",
          "iopub.status.idle": "2021-01-06T15:23:38.997709Z",
          "shell.execute_reply": "2021-01-06T15:23:38.998245Z"
        },
        "papermill": {
          "duration": 0.13765,
          "end_time": "2021-01-06T15:23:38.998375",
          "exception": false,
          "start_time": "2021-01-06T15:23:38.860725",
          "status": "completed"
        },
        "tags": [],
        "id": "F31wmnxbPP7j"
      },
      "outputs": [],
      "source": [
        "# Flatten the output layer to 1 dimension\n",
        "x = Flatten()(vgg19.output)\n",
        "# Add a fully connected layer with a softmax activation for the output classes\n",
        "folders = glob('/content/drive/MyDrive/cotton/Cotton Disease/train/*')\n",
        "prediction = Dense(len(folders), activation='softmax')(x)"
      ]
    },
    {
      "cell_type": "code",
      "execution_count": null,
      "metadata": {
        "execution": {
          "iopub.execute_input": "2021-01-06T15:23:39.541544Z",
          "iopub.status.busy": "2021-01-06T15:23:39.540800Z",
          "iopub.status.idle": "2021-01-06T15:23:39.570879Z",
          "shell.execute_reply": "2021-01-06T15:23:39.571412Z"
        },
        "papermill": {
          "duration": 0.16862,
          "end_time": "2021-01-06T15:23:39.571553",
          "exception": false,
          "start_time": "2021-01-06T15:23:39.402933",
          "status": "completed"
        },
        "tags": [],
        "id": "BeyxQ04DPP7k"
      },
      "outputs": [],
      "source": [
        "# Create the model object\n",
        "model_vgg19 = Model(inputs=vgg19.input, outputs=prediction)\n"
      ]
    },
    {
      "cell_type": "markdown",
      "metadata": {
        "papermill": {
          "duration": 0.131661,
          "end_time": "2021-01-06T15:23:39.834553",
          "exception": false,
          "start_time": "2021-01-06T15:23:39.702892",
          "status": "completed"
        },
        "tags": [],
        "id": "dOJizgdFPP7k"
      },
      "source": [
        "### Summary"
      ]
    },
    {
      "cell_type": "code",
      "execution_count": null,
      "metadata": {
        "execution": {
          "iopub.execute_input": "2021-01-06T15:23:40.102080Z",
          "iopub.status.busy": "2021-01-06T15:23:40.101417Z",
          "iopub.status.idle": "2021-01-06T15:23:40.154435Z",
          "shell.execute_reply": "2021-01-06T15:23:40.153507Z"
        },
        "papermill": {
          "duration": 0.188317,
          "end_time": "2021-01-06T15:23:40.154616",
          "exception": false,
          "start_time": "2021-01-06T15:23:39.966299",
          "status": "completed"
        },
        "tags": [],
        "id": "rlPcJBcAPP7l",
        "outputId": "0ba7f98e-b602-408b-8215-f24138e020d5",
        "colab": {
          "base_uri": "https://localhost:8080/"
        }
      },
      "outputs": [
        {
          "output_type": "stream",
          "name": "stdout",
          "text": [
            "Model: \"model_3\"\n",
            "_________________________________________________________________\n",
            " Layer (type)                Output Shape              Param #   \n",
            "=================================================================\n",
            " input_4 (InputLayer)        [(None, 224, 224, 3)]     0         \n",
            "                                                                 \n",
            " block1_conv1 (Conv2D)       (None, 224, 224, 64)      1792      \n",
            "                                                                 \n",
            " block1_conv2 (Conv2D)       (None, 224, 224, 64)      36928     \n",
            "                                                                 \n",
            " block1_pool (MaxPooling2D)  (None, 112, 112, 64)      0         \n",
            "                                                                 \n",
            " block2_conv1 (Conv2D)       (None, 112, 112, 128)     73856     \n",
            "                                                                 \n",
            " block2_conv2 (Conv2D)       (None, 112, 112, 128)     147584    \n",
            "                                                                 \n",
            " block2_pool (MaxPooling2D)  (None, 56, 56, 128)       0         \n",
            "                                                                 \n",
            " block3_conv1 (Conv2D)       (None, 56, 56, 256)       295168    \n",
            "                                                                 \n",
            " block3_conv2 (Conv2D)       (None, 56, 56, 256)       590080    \n",
            "                                                                 \n",
            " block3_conv3 (Conv2D)       (None, 56, 56, 256)       590080    \n",
            "                                                                 \n",
            " block3_conv4 (Conv2D)       (None, 56, 56, 256)       590080    \n",
            "                                                                 \n",
            " block3_pool (MaxPooling2D)  (None, 28, 28, 256)       0         \n",
            "                                                                 \n",
            " block4_conv1 (Conv2D)       (None, 28, 28, 512)       1180160   \n",
            "                                                                 \n",
            " block4_conv2 (Conv2D)       (None, 28, 28, 512)       2359808   \n",
            "                                                                 \n",
            " block4_conv3 (Conv2D)       (None, 28, 28, 512)       2359808   \n",
            "                                                                 \n",
            " block4_conv4 (Conv2D)       (None, 28, 28, 512)       2359808   \n",
            "                                                                 \n",
            " block4_pool (MaxPooling2D)  (None, 14, 14, 512)       0         \n",
            "                                                                 \n",
            " block5_conv1 (Conv2D)       (None, 14, 14, 512)       2359808   \n",
            "                                                                 \n",
            " block5_conv2 (Conv2D)       (None, 14, 14, 512)       2359808   \n",
            "                                                                 \n",
            " block5_conv3 (Conv2D)       (None, 14, 14, 512)       2359808   \n",
            "                                                                 \n",
            " block5_conv4 (Conv2D)       (None, 14, 14, 512)       2359808   \n",
            "                                                                 \n",
            " block5_pool (MaxPooling2D)  (None, 7, 7, 512)         0         \n",
            "                                                                 \n",
            " flatten_3 (Flatten)         (None, 25088)             0         \n",
            "                                                                 \n",
            " dense_3 (Dense)             (None, 4)                 100356    \n",
            "                                                                 \n",
            "=================================================================\n",
            "Total params: 20124740 (76.77 MB)\n",
            "Trainable params: 100356 (392.02 KB)\n",
            "Non-trainable params: 20024384 (76.39 MB)\n",
            "_________________________________________________________________\n"
          ]
        }
      ],
      "source": [
        "# view the structure of the model\n",
        "model_vgg19.summary()"
      ]
    },
    {
      "cell_type": "markdown",
      "metadata": {
        "papermill": {
          "duration": 0.131364,
          "end_time": "2021-01-06T15:23:40.439217",
          "exception": false,
          "start_time": "2021-01-06T15:23:40.307853",
          "status": "completed"
        },
        "tags": [],
        "id": "mY3rwMUQPP7u"
      },
      "source": [
        "### Training The VGG19\n",
        "\n",
        "\n"
      ]
    },
    {
      "cell_type": "code",
      "execution_count": null,
      "metadata": {
        "execution": {
          "iopub.execute_input": "2021-01-06T15:23:40.716714Z",
          "iopub.status.busy": "2021-01-06T15:23:40.715568Z",
          "iopub.status.idle": "2021-01-06T15:23:40.722707Z",
          "shell.execute_reply": "2021-01-06T15:23:40.722157Z"
        },
        "papermill": {
          "duration": 0.152462,
          "end_time": "2021-01-06T15:23:40.722841",
          "exception": false,
          "start_time": "2021-01-06T15:23:40.570379",
          "status": "completed"
        },
        "tags": [],
        "id": "KL3vNkfOPP7v"
      },
      "outputs": [],
      "source": [
        "# Compile the model\n",
        "model_vgg19.compile(\n",
        "  loss='categorical_crossentropy',\n",
        "  optimizer='adam',\n",
        "  metrics=['accuracy']\n",
        ")"
      ]
    },
    {
      "cell_type": "code",
      "execution_count": null,
      "metadata": {
        "execution": {
          "iopub.execute_input": "2021-01-06T15:23:40.991180Z",
          "iopub.status.busy": "2021-01-06T15:23:40.990241Z",
          "iopub.status.idle": "2021-01-06T15:23:40.993186Z",
          "shell.execute_reply": "2021-01-06T15:23:40.992687Z"
        },
        "papermill": {
          "duration": 0.139416,
          "end_time": "2021-01-06T15:23:40.993294",
          "exception": false,
          "start_time": "2021-01-06T15:23:40.853878",
          "status": "completed"
        },
        "tags": [],
        "id": "1CLg9YvaPP7v"
      },
      "outputs": [],
      "source": [
        "# Use the Image Data Generator to import the images from the dataset\n",
        "train_datagen = ImageDataGenerator(rescale=1./255,\n",
        "                                   shear_range=0.2,\n",
        "                                   zoom_range=0.2,\n",
        "                                   horizontal_flip=True)\n",
        "\n",
        "test_datagen = ImageDataGenerator(rescale=1./255)"
      ]
    },
    {
      "cell_type": "code",
      "execution_count": null,
      "metadata": {
        "execution": {
          "iopub.execute_input": "2021-01-06T15:23:41.263565Z",
          "iopub.status.busy": "2021-01-06T15:23:41.262797Z",
          "iopub.status.idle": "2021-01-06T15:23:41.477919Z",
          "shell.execute_reply": "2021-01-06T15:23:41.477017Z"
        },
        "papermill": {
          "duration": 0.351712,
          "end_time": "2021-01-06T15:23:41.478072",
          "exception": false,
          "start_time": "2021-01-06T15:23:41.126360",
          "status": "completed"
        },
        "tags": [],
        "id": "F5KLaTMfPP7v",
        "outputId": "645f6bd4-c021-4006-df71-e01776938b90",
        "colab": {
          "base_uri": "https://localhost:8080/"
        }
      },
      "outputs": [
        {
          "output_type": "stream",
          "name": "stdout",
          "text": [
            "Found 1951 images belonging to 4 classes.\n"
          ]
        }
      ],
      "source": [
        "# Make sure you provide the same target size as initialized for the image size\n",
        "training_set = train_datagen.flow_from_directory('/content/drive/MyDrive/cotton/Cotton Disease/train',\n",
        "                                                 target_size=(224, 224),\n",
        "                                                 batch_size=32,\n",
        "                                                 class_mode='categorical')"
      ]
    },
    {
      "cell_type": "code",
      "execution_count": null,
      "metadata": {
        "execution": {
          "iopub.execute_input": "2021-01-06T15:23:41.748746Z",
          "iopub.status.busy": "2021-01-06T15:23:41.747950Z",
          "iopub.status.idle": "2021-01-06T15:23:41.856406Z",
          "shell.execute_reply": "2021-01-06T15:23:41.855324Z"
        },
        "papermill": {
          "duration": 0.245767,
          "end_time": "2021-01-06T15:23:41.856692",
          "exception": false,
          "start_time": "2021-01-06T15:23:41.610925",
          "status": "completed"
        },
        "tags": [],
        "id": "3uK6sxNaPP7w",
        "outputId": "c6986c04-4a03-4a2b-8923-bdd1ca00ace0",
        "colab": {
          "base_uri": "https://localhost:8080/"
        }
      },
      "outputs": [
        {
          "output_type": "stream",
          "name": "stdout",
          "text": [
            "Found 106 images belonging to 4 classes.\n"
          ]
        }
      ],
      "source": [
        "test_set = test_datagen.flow_from_directory('/content/drive/MyDrive/cotton/Cotton Disease/test',\n",
        "                                            target_size=(224, 224),\n",
        "                                            batch_size=32,\n",
        "                                            class_mode='categorical')"
      ]
    },
    {
      "cell_type": "code",
      "execution_count": null,
      "metadata": {
        "execution": {
          "iopub.execute_input": "2021-01-06T15:23:42.134635Z",
          "iopub.status.busy": "2021-01-06T15:23:42.134007Z",
          "iopub.status.idle": "2021-01-06T15:49:57.396324Z",
          "shell.execute_reply": "2021-01-06T15:49:57.395439Z"
        },
        "papermill": {
          "duration": 1575.401086,
          "end_time": "2021-01-06T15:49:57.396450",
          "exception": false,
          "start_time": "2021-01-06T15:23:41.995364",
          "status": "completed"
        },
        "tags": [],
        "id": "lt9TIBQZPP7w",
        "outputId": "05148315-05da-4967-8a7f-1af2e7608b01",
        "colab": {
          "base_uri": "https://localhost:8080/"
        }
      },
      "outputs": [
        {
          "output_type": "stream",
          "name": "stdout",
          "text": [
            "Epoch 1/4\n",
            "61/61 [==============================] - 1667s 27s/step - loss: 0.8409 - accuracy: 0.7022 - val_loss: 0.3106 - val_accuracy: 0.8774\n",
            "Epoch 2/4\n",
            "61/61 [==============================] - 1645s 27s/step - loss: 0.2977 - accuracy: 0.8898 - val_loss: 0.2242 - val_accuracy: 0.9057\n",
            "Epoch 3/4\n",
            "61/61 [==============================] - 1646s 27s/step - loss: 0.2387 - accuracy: 0.9098 - val_loss: 0.1947 - val_accuracy: 0.9057\n",
            "Epoch 4/4\n",
            "61/61 [==============================] - 1638s 27s/step - loss: 0.1904 - accuracy: 0.9339 - val_loss: 0.2139 - val_accuracy: 0.8962\n"
          ]
        }
      ],
      "source": [
        "# Fit the model\n",
        "history_vgg19 = model_vgg19.fit(\n",
        "  training_set,\n",
        "  validation_data=test_set,\n",
        "  epochs=4,\n",
        "  steps_per_epoch=len(training_set),\n",
        "  validation_steps=len(test_set)\n",
        ")"
      ]
    },
    {
      "cell_type": "markdown",
      "metadata": {
        "papermill": {
          "duration": 0.214889,
          "end_time": "2021-01-06T15:49:57.823034",
          "exception": false,
          "start_time": "2021-01-06T15:49:57.608145",
          "status": "completed"
        },
        "tags": [],
        "id": "uEj0PrpnPP7x"
      },
      "source": [
        "### Testing\n"
      ]
    },
    {
      "cell_type": "code",
      "execution_count": null,
      "metadata": {
        "execution": {
          "iopub.execute_input": "2021-01-06T15:49:58.258484Z",
          "iopub.status.busy": "2021-01-06T15:49:58.257866Z",
          "iopub.status.idle": "2021-01-06T15:49:59.291208Z",
          "shell.execute_reply": "2021-01-06T15:49:59.292026Z"
        },
        "papermill": {
          "duration": 1.250563,
          "end_time": "2021-01-06T15:49:59.292292",
          "exception": false,
          "start_time": "2021-01-06T15:49:58.041729",
          "status": "completed"
        },
        "tags": [],
        "id": "FGn9eAvhPP7x",
        "colab": {
          "base_uri": "https://localhost:8080/"
        },
        "outputId": "0a357bb9-8ac9-4bac-9a1c-d0371fd6bf9e"
      },
      "outputs": [
        {
          "output_type": "stream",
          "name": "stdout",
          "text": [
            "1/1 [==============================] - 3s 3s/step\n"
          ]
        }
      ],
      "source": [
        "# Predict using VGG19 model\n",
        "test_image = image.load_img('/content/drive/MyDrive/cotton/Cotton Disease/test/fresh cotton leaf/d (7)_iaip.jpg', target_size=(224, 224))\n",
        "test_image = image.img_to_array(test_image)\n",
        "test_image = test_image / 255.0\n",
        "test_image = np.expand_dims(test_image, axis=0)\n",
        "result_vgg19 = model_vgg19.predict(test_image)"
      ]
    },
    {
      "cell_type": "markdown",
      "metadata": {
        "papermill": {
          "duration": 0.214245,
          "end_time": "2021-01-06T15:49:59.730847",
          "exception": false,
          "start_time": "2021-01-06T15:49:59.516602",
          "status": "completed"
        },
        "tags": [],
        "id": "7i5VeaESPP7x"
      },
      "source": [
        "### Conclusion"
      ]
    },
    {
      "cell_type": "code",
      "execution_count": null,
      "metadata": {
        "execution": {
          "iopub.execute_input": "2021-01-06T15:50:00.186777Z",
          "iopub.status.busy": "2021-01-06T15:50:00.181370Z",
          "iopub.status.idle": "2021-01-06T15:50:00.712060Z",
          "shell.execute_reply": "2021-01-06T15:50:00.711521Z"
        },
        "papermill": {
          "duration": 0.758161,
          "end_time": "2021-01-06T15:50:00.712213",
          "exception": false,
          "start_time": "2021-01-06T15:49:59.954052",
          "status": "completed"
        },
        "tags": [],
        "id": "iFMNyQJmPP7x",
        "outputId": "efa929b9-b5a4-476c-bfc4-007b084bc803",
        "colab": {
          "base_uri": "https://localhost:8080/",
          "height": 887
        }
      },
      "outputs": [
        {
          "output_type": "display_data",
          "data": {
            "text/plain": [
              "<Figure size 640x480 with 1 Axes>"
            ],
            "image/png": "[encoded data removed]"
          },
          "metadata": {}
        },
        {
          "output_type": "display_data",
          "data": {
            "text/plain": [
              "<Figure size 640x480 with 1 Axes>"
            ],
            "image/png": "[encoded data removed]"
          },
          "metadata": {}
        }
      ],
      "source": [
        "# Plot VGG19 accuracies and losses\n",
        "plt.plot(history_vgg19.history['accuracy'], label='VGG19 Train Accuracy')\n",
        "plt.plot(history_vgg19.history['val_accuracy'], label='VGG19 Validation Accuracy')\n",
        "plt.title('VGG19 Train and Validation Accuracy')\n",
        "plt.legend()\n",
        "plt.show()\n",
        "\n",
        "plt.plot(history_vgg19.history['loss'], label='VGG19 Train Loss')\n",
        "plt.plot(history_vgg19.history['val_loss'], label='VGG19 Validation Loss')\n",
        "plt.title('VGG19 Train and Validation Loss')\n",
        "plt.legend()\n",
        "plt.show()"
      ]
    },
    {
      "cell_type": "code",
      "execution_count": null,
      "metadata": {
        "execution": {
          "iopub.execute_input": "2021-01-06T15:50:01.157134Z",
          "iopub.status.busy": "2021-01-06T15:50:01.156149Z",
          "iopub.status.idle": "2021-01-06T15:50:01.160145Z",
          "shell.execute_reply": "2021-01-06T15:50:01.159615Z"
        },
        "papermill": {
          "duration": 0.225126,
          "end_time": "2021-01-06T15:50:01.160256",
          "exception": false,
          "start_time": "2021-01-06T15:50:00.935130",
          "status": "completed"
        },
        "tags": [],
        "id": "ZLwA-0oRPP7y",
        "outputId": "cf71a5dc-d637-42f9-c2b4-10e5eff8bafd",
        "colab": {
          "base_uri": "https://localhost:8080/"
        }
      },
      "outputs": [
        {
          "output_type": "execute_result",
          "data": {
            "text/plain": [
              "array([[8.3405335e-05, 9.0200549e-09, 9.9991584e-01, 6.7554714e-07]],\n",
              "      dtype=float32)"
            ]
          },
          "metadata": {},
          "execution_count": 66
        }
      ],
      "source": [
        "result_vgg19"
      ]
    },
    {
      "cell_type": "code",
      "execution_count": null,
      "metadata": {
        "execution": {
          "iopub.execute_input": "2021-01-06T15:50:01.594492Z",
          "iopub.status.busy": "2021-01-06T15:50:01.593825Z",
          "iopub.status.idle": "2021-01-06T15:50:01.596721Z",
          "shell.execute_reply": "2021-01-06T15:50:01.596276Z"
        },
        "papermill": {
          "duration": 0.219136,
          "end_time": "2021-01-06T15:50:01.596819",
          "exception": false,
          "start_time": "2021-01-06T15:50:01.377683",
          "status": "completed"
        },
        "tags": [],
        "id": "zYhdYjh9PP7y"
      },
      "outputs": [],
      "source": [
        "result_vgg19 = result_vgg19.ravel()"
      ]
    },
    {
      "cell_type": "code",
      "execution_count": null,
      "metadata": {
        "execution": {
          "iopub.execute_input": "2021-01-06T15:50:02.054528Z",
          "iopub.status.busy": "2021-01-06T15:50:02.053529Z",
          "iopub.status.idle": "2021-01-06T15:50:02.056281Z",
          "shell.execute_reply": "2021-01-06T15:50:02.056734Z"
        },
        "papermill": {
          "duration": 0.244578,
          "end_time": "2021-01-06T15:50:02.056873",
          "exception": false,
          "start_time": "2021-01-06T15:50:01.812295",
          "status": "completed"
        },
        "tags": [],
        "id": "TUy979XrPP7y"
      },
      "outputs": [],
      "source": [
        "result_vgg19=result_vgg19.tolist()"
      ]
    },
    {
      "cell_type": "code",
      "execution_count": null,
      "metadata": {
        "execution": {
          "iopub.execute_input": "2021-01-06T15:50:02.500493Z",
          "iopub.status.busy": "2021-01-06T15:50:02.499422Z",
          "iopub.status.idle": "2021-01-06T15:50:02.503125Z",
          "shell.execute_reply": "2021-01-06T15:50:02.503946Z"
        },
        "papermill": {
          "duration": 0.230345,
          "end_time": "2021-01-06T15:50:02.504172",
          "exception": false,
          "start_time": "2021-01-06T15:50:02.273827",
          "status": "completed"
        },
        "tags": [],
        "id": "GFW708g5PP7y",
        "outputId": "58f24a25-fb1b-42f8-c86f-62cb0695a595",
        "colab": {
          "base_uri": "https://localhost:8080/"
        }
      },
      "outputs": [
        {
          "output_type": "execute_result",
          "data": {
            "text/plain": [
              "[8.340533531736583e-05,\n",
              " 9.020054925201748e-09,\n",
              " 0.9999158382415771,\n",
              " 6.755471417818626e-07]"
            ]
          },
          "metadata": {},
          "execution_count": 69
        }
      ],
      "source": [
        "result_vgg19"
      ]
    },
    {
      "cell_type": "code",
      "execution_count": null,
      "metadata": {
        "execution": {
          "iopub.execute_input": "2021-01-06T15:50:02.975488Z",
          "iopub.status.busy": "2021-01-06T15:50:02.974831Z",
          "iopub.status.idle": "2021-01-06T15:50:03.134478Z",
          "shell.execute_reply": "2021-01-06T15:50:03.132905Z"
        },
        "papermill": {
          "duration": 0.404317,
          "end_time": "2021-01-06T15:50:03.134605",
          "exception": false,
          "start_time": "2021-01-06T15:50:02.730288",
          "status": "completed"
        },
        "tags": [],
        "id": "zEYebe9nPP7z",
        "colab": {
          "base_uri": "https://localhost:8080/"
        },
        "outputId": "11fdca8a-4736-424f-e8bc-151cfd9dde0e"
      },
      "outputs": [
        {
          "output_type": "stream",
          "name": "stdout",
          "text": [
            "1/1 [==============================] - 1s 1s/step\n"
          ]
        }
      ],
      "source": [
        "a1= np.argmax(model_vgg19.predict(test_image),axis=1)"
      ]
    },
    {
      "cell_type": "code",
      "execution_count": null,
      "metadata": {
        "execution": {
          "iopub.execute_input": "2021-01-06T15:50:03.574394Z",
          "iopub.status.busy": "2021-01-06T15:50:03.573670Z",
          "iopub.status.idle": "2021-01-06T15:50:03.578270Z",
          "shell.execute_reply": "2021-01-06T15:50:03.577697Z"
        },
        "papermill": {
          "duration": 0.226786,
          "end_time": "2021-01-06T15:50:03.578378",
          "exception": false,
          "start_time": "2021-01-06T15:50:03.351592",
          "status": "completed"
        },
        "tags": [],
        "id": "DPmUuOQmPP7z",
        "outputId": "7a3d1b0b-7b86-4c8d-b1b5-f55dbc65554f",
        "colab": {
          "base_uri": "https://localhost:8080/"
        }
      },
      "outputs": [
        {
          "output_type": "execute_result",
          "data": {
            "text/plain": [
              "array([2])"
            ]
          },
          "metadata": {},
          "execution_count": 71
        }
      ],
      "source": [
        "a1"
      ]
    },
    {
      "cell_type": "markdown",
      "metadata": {
        "papermill": {
          "duration": 0.223757,
          "end_time": "2021-01-06T15:50:04.020290",
          "exception": false,
          "start_time": "2021-01-06T15:50:03.796533",
          "status": "completed"
        },
        "tags": [],
        "id": "dVVD54HfPP7z"
      },
      "source": [
        "###  conclusion"
      ]
    },
    {
      "cell_type": "code",
      "execution_count": null,
      "metadata": {
        "execution": {
          "iopub.execute_input": "2021-01-06T15:50:04.466332Z",
          "iopub.status.busy": "2021-01-06T15:50:04.465561Z",
          "iopub.status.idle": "2021-01-06T15:50:04.469630Z",
          "shell.execute_reply": "2021-01-06T15:50:04.468787Z"
        },
        "papermill": {
          "duration": 0.230539,
          "end_time": "2021-01-06T15:50:04.469747",
          "exception": false,
          "start_time": "2021-01-06T15:50:04.239208",
          "status": "completed"
        },
        "tags": [],
        "id": "95SaX822PP70",
        "outputId": "5fa6dc68-0a95-4814-f63c-9f4e7e46ca1f",
        "colab": {
          "base_uri": "https://localhost:8080/"
        }
      },
      "outputs": [
        {
          "output_type": "stream",
          "name": "stdout",
          "text": [
            "[VGG19] Largest element present in given array: 0.9999158382415771 And it belongs to fresh_leaf class.\n"
          ]
        }
      ],
      "source": [
        "# Convert result to list and find the class with highest probability\n",
        "\n",
        "max_prob_vgg19 = result_vgg19[0]\n",
        "index_of_max_vgg19 = 0\n",
        "\n",
        "# Loop through the result array to find the max probability and its index\n",
        "for index, value in enumerate(result_vgg19):\n",
        "    if value > max_prob_vgg19:\n",
        "        max_prob_vgg19 = value\n",
        "        index_of_max_vgg19 = index\n",
        "\n",
        "print(f\"[VGG19] Largest element present in given array: {max_prob_vgg19} And it belongs to {classes[index_of_max_vgg19]} class.\")"
      ]
    },
    {
      "cell_type": "markdown",
      "source": [
        "### VGG16 VS VGG19"
      ],
      "metadata": {
        "id": "49mjLtDC2RsT"
      }
    },
    {
      "cell_type": "code",
      "source": [
        "# Plot the accuracies and losses for VGG16 vs VGG19\n",
        "plt.figure(figsize=(12, 6))\n",
        "\n",
        "# Accuracy comparison\n",
        "plt.subplot(1, 2, 1)\n",
        "plt.plot(r.history['accuracy'], label='VGG16 Train Accuracy')\n",
        "plt.plot(r.history['val_accuracy'], label='VGG16 Validation Accuracy')\n",
        "plt.plot(history_vgg19.history['accuracy'], label='VGG19 Train Accuracy')\n",
        "plt.plot(history_vgg19.history['val_accuracy'], label='VGG19 Validation Accuracy')\n",
        "plt.title('VGG16 vs VGG19 Train and Validation Accuracy')\n",
        "plt.legend()\n",
        "\n",
        "# Loss comparison\n",
        "plt.subplot(1, 2, 2)\n",
        "plt.plot(r.history['loss'], label='VGG16 Train Loss')\n",
        "plt.plot(r.history['val_loss'], label='VGG16 Validation Loss')\n",
        "plt.plot(history_vgg19.history['loss'], label='VGG19 Train Loss')\n",
        "plt.plot(history_vgg19.history['val_loss'], label='VGG19 Validation Loss')\n",
        "plt.title('VGG16 vs VGG19 Train and Validation Loss')\n",
        "plt.legend()\n",
        "\n",
        "plt.show()\n"
      ],
      "metadata": {
        "colab": {
          "base_uri": "https://localhost:8080/",
          "height": 545
        },
        "id": "j6KoaAQO2NGu",
        "outputId": "0012eef9-3323-49ba-b114-92c4742ec970"
      },
      "execution_count": null,
      "outputs": [
        {
          "output_type": "display_data",
          "data": {
            "text/plain": [
              "<Figure size 1200x600 with 2 Axes>"
            ],
            "image/png": "[encoded data removed]"
          },
          "metadata": {}
        }
      ]
    },
    {
      "cell_type": "markdown",
      "metadata": {
        "papermill": {
          "duration": 0.221634,
          "end_time": "2021-01-06T15:50:04.909568",
          "exception": false,
          "start_time": "2021-01-06T15:50:04.687934",
          "status": "completed"
        },
        "tags": [],
        "id": "pcvGqeWKPP70"
      },
      "source": [
        "Our experimentation with the VGG16 and VGG19 models on the cotton disease dataset revealed discernible disparities in their performance. Each model underwent training for four epochs, during which their efficacy was assessed based on training and validation accuracy and loss.\n",
        "\n",
        "VGG16 demonstrated consistent advancements in both training and validation accuracy. However, there was a slight indication of overfitting as the validation accuracy leveled off marginally lower than the training accuracy. Throughout the training process, the training and validation losses for VGG16 steadily declined, with the validation loss consistently remaining higher than the training loss.\n",
        "\n",
        "Conversely, VGG19 exhibited similar accuracy improvements but did not perform as well as VGG16 in terms of validation accuracy and loss. Although VGG19 demonstrated a good learning trend, its validation accuracy and loss metrics were generally not as favorable as those of VGG16. This indicates that VGG16 may have more efficient learning and generalization capabilities for this specific dataset.\n",
        "\n",
        "In summary, while both VGG16 and VGG19 displayed commendable performance, VGG16 showed a slight edge over VGG19 in terms of validation accuracy and loss, suggesting better generalization capabilities. This makes VGG16 a potentially more suitable choice for the cotton disease dataset, balancing performance needs with computational resources more effectively than VGG19."
      ]
    }
  ],
  "metadata": {
    "kernelspec": {
      "display_name": "Python 3",
      "language": "python",
      "name": "python3"
    },
    "language_info": {
      "codemirror_mode": {
        "name": "ipython",
        "version": 3
      },
      "file_extension": ".py",
      "mimetype": "text/x-python",
      "name": "python",
      "nbconvert_exporter": "python",
      "pygments_lexer": "ipython3",
      "version": "3.7.6"
    },
    "papermill": {
      "duration": 3213.555256,
      "end_time": "2021-01-06T15:50:05.235307",
      "environment_variables": {},
      "exception": null,
      "input_path": "__notebook__.ipynb",
      "output_path": "__notebook__.ipynb",
      "parameters": {},
      "start_time": "2021-01-06T14:56:31.680051",
      "version": "2.1.0"
    },
    "colab": {
      "provenance": []
    }
  },
  "nbformat": 4,
  "nbformat_minor": 0
}